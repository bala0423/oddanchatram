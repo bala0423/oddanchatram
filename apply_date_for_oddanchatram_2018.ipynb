{
 "cells": [
  {
   "cell_type": "code",
   "execution_count": 1,
   "metadata": {},
   "outputs": [],
   "source": [
    "import pandas as pa\n",
    "import numpy as np\n",
    "import os\n",
    "\n",
    "def add_date(filename):\n",
    "    cs= pa.read_csv(filename)\n",
    "    b=filename\n",
    "    a='.,-'\n",
    "    for i in a:\n",
    "        dot=(b.split('.'))\n",
    "        b=(dot[0])\n",
    "        slash=(b.split('-'))\n",
    "    year=slash[-1]\n",
    "    month=slash[-2]\n",
    "    day=slash[-3]\n",
    "    dop=year+'-'+month+'-'+day\n",
    "    cs['date_of_purchase']=dop\n",
    "    cs.to_csv(filename)\n",
    "    return;\n"
   ]
  },
  {
   "cell_type": "code",
   "execution_count": 11,
   "metadata": {},
   "outputs": [],
   "source": [
    "success = []\n",
    "failed = []\n",
    "\n",
    "base_path = os.getcwd() + '/data/oddanchatram/2018/'\n",
    "\n",
    "list_of_files = os.listdir(base_path)\n",
    "\n",
    "for file_name in list_of_files:\n",
    "    file_path = base_path + file_name\n",
    "    try:\n",
    "        add_date(file_path)\n",
    "        success.append(file_path)\n",
    "    except:\n",
    "        failed.append(file_path)"
   ]
  },
  {
   "cell_type": "code",
   "execution_count": 12,
   "metadata": {},
   "outputs": [
    {
     "data": {
      "text/plain": [
       "1"
      ]
     },
     "execution_count": 12,
     "metadata": {},
     "output_type": "execute_result"
    }
   ],
   "source": [
    "len(failed)"
   ]
  },
  {
   "cell_type": "code",
   "execution_count": 14,
   "metadata": {},
   "outputs": [
    {
     "data": {
      "text/plain": [
       "'/home/ak/code/oddanchatram/data/oddanchatram/2018/oddanchatram-vegetable-market-price-details-27-01-2018.csv'"
      ]
     },
     "execution_count": 14,
     "metadata": {},
     "output_type": "execute_result"
    }
   ],
   "source": [
    "failed_file = failed[0]\n",
    "failed_file"
   ]
  },
  {
   "cell_type": "code",
   "execution_count": 5,
   "metadata": {},
   "outputs": [
    {
     "data": {
      "text/plain": [
       "3"
      ]
     },
     "execution_count": 5,
     "metadata": {},
     "output_type": "execute_result"
    }
   ],
   "source": [
    "len(failed)"
   ]
  },
  {
   "cell_type": "code",
   "execution_count": 6,
   "metadata": {},
   "outputs": [
    {
     "data": {
      "text/plain": [
       "['.ipynb_checkpoints',\n",
       " 'oddanchatram-vegetable-market-price-details-27-01-2018.csv',\n",
       " 'myy.ipynb']"
      ]
     },
     "execution_count": 6,
     "metadata": {},
     "output_type": "execute_result"
    }
   ],
   "source": [
    "failed"
   ]
  },
  {
   "cell_type": "code",
   "execution_count": null,
   "metadata": {},
   "outputs": [],
   "source": []
  }
 ],
 "metadata": {
  "kernelspec": {
   "display_name": "Python 3",
   "language": "python",
   "name": "python3"
  },
  "language_info": {
   "codemirror_mode": {
    "name": "ipython",
    "version": 3
   },
   "file_extension": ".py",
   "mimetype": "text/x-python",
   "name": "python",
   "nbconvert_exporter": "python",
   "pygments_lexer": "ipython3",
   "version": "3.6.4"
  }
 },
 "nbformat": 4,
 "nbformat_minor": 2
}
