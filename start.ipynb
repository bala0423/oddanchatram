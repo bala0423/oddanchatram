{
 "cells": [
  {
   "cell_type": "code",
   "execution_count": 3,
   "metadata": {},
   "outputs": [],
   "source": [
    "from lib.lib import *\n",
    "for page in range(24, 40):\n",
    "    page_url = \"http://oddanchatramvegetablemarket.com/category/oddanchatram-vegetable-price/page/\"+str(page)+\"/\"\n",
    "#     page_url = \"http://oddanchatramvegetablemarket.com/category/dindigul-vegetable-price/page/\"+str(page)+\"/\"\n",
    "    links = links_to_scan(page_url)\n",
    "    for link in links:\n",
    "        try:\n",
    "            url_to_csv(link)\n",
    "        except:\n",
    "            print(link)"
   ]
  },
  {
   "cell_type": "code",
   "execution_count": null,
   "metadata": {},
   "outputs": [],
   "source": [
    "file_name = \"dindigul-vegetable-market-price-details-2812017\"\n",
    "places = [\"oddanchatram\", \"dindigul\"]\n",
    "for place in places:\n",
    "    if place in file_name:\n",
    "        print(place)"
   ]
  },
  {
   "cell_type": "code",
   "execution_count": 1,
   "metadata": {},
   "outputs": [],
   "source": [
    "from lib.lib import *\n",
    "link = \"http://oddanchatramvegetablemarket.com/dindigul-vegetable-market-price-details-112017/\"\n",
    "url_to_csv(link)"
   ]
  },
  {
   "cell_type": "code",
   "execution_count": null,
   "metadata": {
    "collapsed": true
   },
   "outputs": [],
   "source": []
  }
 ],
 "metadata": {
  "anaconda-cloud": {},
  "kernelspec": {
   "display_name": "Python 3",
   "language": "python",
   "name": "python3"
  },
  "language_info": {
   "codemirror_mode": {
    "name": "ipython",
    "version": 3
   },
   "file_extension": ".py",
   "mimetype": "text/x-python",
   "name": "python",
   "nbconvert_exporter": "python",
   "pygments_lexer": "ipython3",
   "version": "3.6.4"
  }
 },
 "nbformat": 4,
 "nbformat_minor": 1
}
